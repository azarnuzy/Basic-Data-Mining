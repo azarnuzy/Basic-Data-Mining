{
 "cells": [
  {
   "cell_type": "markdown",
   "source": [
    "# Tugas Pengenalan Python\r\n",
    "\r\n",
    "```\r\n",
    "Dibuat Pada: 19-09-2021\r\n",
    "Oleh: Muhammad Azar Nuzy\r\n",
    "NIM: 2004191\r\n",
    "Kelas: Ilmu Komputer\r\n",
    "```\r\n",
    "\r\n",
    "File ini dibuat untuk memenuhi salah tugas Mata Kuliah Data Mining & Warehouse di dalamnya terdapat beberapa latihan soal dasar python"
   ],
   "metadata": {}
  },
  {
   "cell_type": "markdown",
   "source": [
    "## Latihan 1\r\n",
    "\r\n",
    "> Modifikasi program tersebut sehingga menampilkan tiga baris:  \r\n",
    "> Selamat pagi,  \r\n",
    "> Nama saya [nama anda]  \r\n",
    "> Python tidak sulit, saya akan menguasainya!  \r\n",
    "\r\n",
    "\r\n"
   ],
   "metadata": {}
  },
  {
   "cell_type": "code",
   "execution_count": null,
   "source": [
    "print ('Selamat pagi,')\r\n",
    "print ('Nama saya Muhammad Azar Nuzy')\r\n",
    "print ('Python tidak sulit, saya akan menguasainya!')"
   ],
   "outputs": [],
   "metadata": {}
  },
  {
   "cell_type": "markdown",
   "source": [
    "```python\n",
    "# Output  \n",
    "Selamat pagi,\n",
    "Nama saya Muhammad Azar Nuzy\n",
    "Python tidak sulit, saya akan menguasainya!\n",
    "```"
   ],
   "metadata": {}
  },
  {
   "cell_type": "markdown",
   "source": [
    "## Latihan 3\n",
    "\n",
    "> Modifikasi latihan 2 agar data panjang dan lebar didapat dari input user melalui keyboard\n",
    "\n",
    "\n",
    "\n"
   ],
   "metadata": {}
  },
  {
   "cell_type": "code",
   "execution_count": null,
   "source": [
    "panjang = int(input(\"panjang: \"))\r\n",
    "lebar = int(input(\"lebar: \"))\r\n",
    "print('Panjang : ', panjang)\r\n",
    "print('Lebar: ', lebar)\r\n",
    "print('Luas: {}'.format(panjang * lebar))\r\n",
    "print('Keliling: {}'.format(2*panjang + 2*lebar))"
   ],
   "outputs": [],
   "metadata": {}
  },
  {
   "cell_type": "markdown",
   "source": [
    "```python\r\n",
    "# Output  \r\n",
    "panjang: 20\r\n",
    "lebar: 15\r\n",
    "Panjang :  20\r\n",
    "Lebar:  15\r\n",
    "Luas: 300\r\n",
    "Keliling: 70\r\n",
    "```"
   ],
   "metadata": {}
  },
  {
   "cell_type": "markdown",
   "source": [
    "## Latihan 5\n",
    "\n",
    "> Tampilkan urutan berikut menggunakan loop For dan While  \n",
    "> ```\n",
    "1\n",
    "2\n",
    "3\n",
    "2\n",
    "1\n",
    "> ```\n"
   ],
   "metadata": {}
  },
  {
   "cell_type": "code",
   "execution_count": null,
   "source": [
    "for i in range(1,4):\r\n",
    "   print(i) \r\n",
    "\r\n",
    "i -= 1\r\n",
    "while i>0:\r\n",
    "    print(i)\r\n",
    "    i -= 1"
   ],
   "outputs": [],
   "metadata": {}
  },
  {
   "cell_type": "markdown",
   "source": [
    "```python\n",
    "# Output  \n",
    "1\n",
    "2\n",
    "3\n",
    "2\n",
    "1\n",
    "```"
   ],
   "metadata": {}
  },
  {
   "cell_type": "markdown",
   "source": [
    "## Latihan 7\n",
    "\n",
    "> Code yang tepat untuk bagian yang kosong ... sehingga menghasilkan output [3, 4, 5] adalah:\n",
    "list1 = [1,2,3,4,5,6,7,8,9,10]\n",
    "\n"
   ],
   "metadata": {}
  },
  {
   "cell_type": "code",
   "execution_count": null,
   "source": [
    "list1 = [1,2,3,4,5,6,7,8,9,10]\r\n",
    "\r\n",
    "hasil = list1[2:5]\r\n",
    "\r\n",
    "for i in range(len(hasil)):\r\n",
    "    print(hasil[i])"
   ],
   "outputs": [],
   "metadata": {}
  },
  {
   "cell_type": "markdown",
   "source": [
    "```python\n",
    "# Output  \n",
    "[3,4,5]\n",
    "```"
   ],
   "metadata": {}
  },
  {
   "cell_type": "markdown",
   "source": [
    "## Latihan 9\n",
    "\n",
    "> Hasil dari code berikut adalah?\n",
    "```python\n",
    "list1 = [5,6,7]\n",
    "list2 = [\"lima\",\"enam\",\"tujuh\"]\n",
    "for i, (input_text, target_text) in\n",
    "enumerate(zip(list1, list2)):\n",
    "print(i,input_text,target_text)\n",
    "```\n"
   ],
   "metadata": {}
  },
  {
   "cell_type": "code",
   "execution_count": null,
   "source": [
    "list1 = [5,6,7]\r\n",
    "list2 = [\"lima\", \"enam\", \"tujuh\"]\r\n",
    "for i, (input_text, target_text) in enumerate(zip(list1, list2)):\r\n",
    "    print(i, input_text, target_text)"
   ],
   "outputs": [],
   "metadata": {}
  },
  {
   "cell_type": "markdown",
   "source": [
    "```python\n",
    "# Output  \n",
    "0 5 lima\n",
    "1 6 enam\n",
    "2 7 tujuh\n",
    "```"
   ],
   "metadata": {}
  },
  {
   "cell_type": "markdown",
   "source": [
    "### Credit\r\n",
    "\r\n",
    "- [Muhammad Azar Nuzy](https://www.instagram.com/azar_nuzy/?hl=en)"
   ],
   "metadata": {}
  }
 ],
 "metadata": {
  "kernelspec": {
   "name": "python3",
   "display_name": "Python 3.9.7 64-bit"
  },
  "language_info": {
   "codemirror_mode": {
    "name": "ipython",
    "version": 3
   },
   "file_extension": ".py",
   "mimetype": "text/x-python",
   "name": "python",
   "nbconvert_exporter": "python",
   "pygments_lexer": "ipython3",
   "version": "3.9.7"
  },
  "interpreter": {
   "hash": "63fd5069d213b44bf678585dea6b12cceca9941eaf7f819626cde1f2670de90d"
  }
 },
 "nbformat": 4,
 "nbformat_minor": 5
}