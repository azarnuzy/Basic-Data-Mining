{
 "cells": [
  {
   "cell_type": "markdown",
   "metadata": {},
   "source": [
    "# Tugas Pengenalan Python\n",
    "\n",
    "```\n",
    "Dibuat Pada: 19-09-2021\n",
    "Oleh: Muhammad Azar Nuzy\n",
    "NIM: 2004191\n",
    "Kelas: Ilmu Komputer\n",
    "```\n",
    "\n",
    "File ini dibuat untuk memenuhi salah tugas Mata Kuliah Data Mining & Warehouse di dalamnya terdapat beberapa latihan soal dasar python"
   ]
  },
  {
   "cell_type": "markdown",
   "metadata": {},
   "source": [
    "## Latihan 1\n",
    "\n",
    "> Modifikasi program tersebut sehingga menampilkan tiga baris:  \n",
    "> Selamat pagi,  \n",
    "> Nama saya [nama anda]  \n",
    "> Python tidak sulit, saya akan menguasainya!  \n",
    "\n",
    "\n"
   ]
  },
  {
   "cell_type": "code",
   "execution_count": 1,
   "metadata": {},
   "outputs": [
    {
     "name": "stdout",
     "output_type": "stream",
     "text": [
      "Selamat pagi,\n",
      "Nama saya Muhammad Azar Nuzy\n",
      "Python tidak sulit, saya akan menguasainya!\n"
     ]
    }
   ],
   "source": [
    "print ('Selamat pagi,')\n",
    "print ('Nama saya Muhammad Azar Nuzy')\n",
    "print ('Python tidak sulit, saya akan menguasainya!')\n"
   ]
  },
  {
   "cell_type": "markdown",
   "metadata": {},
   "source": [
    "```python\n",
    "# Output  \n",
    "Selamat pagi,\n",
    "Nama saya Muhammad Azar Nuzy\n",
    "Python tidak sulit, saya akan menguasainya!\n",
    "```"
   ]
  },
  {
   "cell_type": "markdown",
   "metadata": {},
   "source": [
    "## Latihan 3\n",
    "\n",
    "> Modifikasi latihan 2 agar data panjang dan lebar didapat dari input user melalui keyboard\n",
    "\n",
    "\n",
    "\n"
   ]
  },
  {
   "cell_type": "code",
   "execution_count": 3,
   "metadata": {},
   "outputs": [
    {
     "name": "stdout",
     "output_type": "stream",
     "text": [
      "Panjang :  1\n",
      "Lebar:  2\n",
      "Luas: 2\n",
      "Keliling: 6\n"
     ]
    }
   ],
   "source": [
    "panjang = int(input(\"panjang: \"))\n",
    "lebar = int(input(\"lebar: \"))\n",
    "print('Panjang : ', panjang)\n",
    "print('Lebar: ', lebar)\n",
    "print('Luas: {}'.format(panjang * lebar))\n",
    "print('Keliling: {}'.format(2*panjang + 2*lebar))"
   ]
  },
  {
   "cell_type": "markdown",
   "metadata": {},
   "source": [
    "```python\n",
    "# Output  \n",
    "panjang: 20\n",
    "lebar: 15\n",
    "Panjang :  20\n",
    "Lebar:  15\n",
    "Luas: 300\n",
    "Keliling: 70\n",
    "```"
   ]
  },
  {
   "cell_type": "markdown",
   "metadata": {},
   "source": [
    "## Latihan 5\n",
    "\n",
    "> Tampilkan urutan berikut menggunakan loop For dan While  \n",
    "> ```\n",
    "1\n",
    "2\n",
    "3\n",
    "2\n",
    "1\n",
    "> ```\n"
   ]
  },
  {
   "cell_type": "code",
   "execution_count": 4,
   "metadata": {},
   "outputs": [
    {
     "name": "stdout",
     "output_type": "stream",
     "text": [
      "1\n",
      "2\n",
      "3\n",
      "2\n",
      "1\n"
     ]
    }
   ],
   "source": [
    "for i in range(1,4):\n",
    "   print(i) \n",
    "\n",
    "i -= 1\n",
    "while i>0:\n",
    "    print(i)\n",
    "    i -= 1"
   ]
  },
  {
   "cell_type": "markdown",
   "metadata": {},
   "source": [
    "```python\n",
    "# Output  \n",
    "1\n",
    "2\n",
    "3\n",
    "2\n",
    "1\n",
    "```"
   ]
  },
  {
   "cell_type": "markdown",
   "metadata": {},
   "source": [
    "## Latihan 7\n",
    "\n",
    "> Code yang tepat untuk bagian yang kosong ... sehingga menghasilkan output [3, 4, 5] adalah:\n",
    "list1 = [1,2,3,4,5,6,7,8,9,10]\n",
    "\n"
   ]
  },
  {
   "cell_type": "code",
   "execution_count": null,
   "metadata": {},
   "outputs": [],
   "source": [
    "list1 = [1,2,3,4,5,6,7,8,9,10]\n",
    "\n",
    "hasil = list1[2:5]\n",
    "\n",
    "for i in range(len(hasil)):\n",
    "    print(hasil[i])"
   ]
  },
  {
   "cell_type": "markdown",
   "metadata": {},
   "source": [
    "```python\n",
    "# Output  \n",
    "[3,4,5]\n",
    "```"
   ]
  },
  {
   "cell_type": "markdown",
   "metadata": {},
   "source": [
    "## Latihan 9\n",
    "\n",
    "> Hasil dari code berikut adalah?\n",
    "```python\n",
    "list1 = [5,6,7]\n",
    "list2 = [\"lima\",\"enam\",\"tujuh\"]\n",
    "for i, (input_text, target_text) in\n",
    "enumerate(zip(list1, list2)):\n",
    "print(i,input_text,target_text)\n",
    "```\n"
   ]
  },
  {
   "cell_type": "code",
   "execution_count": 5,
   "metadata": {},
   "outputs": [
    {
     "name": "stdout",
     "output_type": "stream",
     "text": [
      "0 5 lima\n",
      "1 6 enam\n",
      "2 7 tujuh\n"
     ]
    }
   ],
   "source": [
    "list1 = [5,6,7]\n",
    "list2 = [\"lima\", \"enam\", \"tujuh\"]\n",
    "for i, (input_text, target_text) in enumerate(zip(list1, list2)):\n",
    "    print(i, input_text, target_text)"
   ]
  },
  {
   "cell_type": "markdown",
   "metadata": {},
   "source": [
    "```python\n",
    "# Output  \n",
    "0 5 lima\n",
    "1 6 enam\n",
    "2 7 tujuh\n",
    "```"
   ]
  },
  {
   "cell_type": "markdown",
   "metadata": {},
   "source": [
    "### Credit\n",
    "\n",
    "- [Muhammad Azar Nuzy](https://www.instagram.com/azar_nuzy/?hl=en)"
   ]
  }
 ],
 "metadata": {
  "interpreter": {
   "hash": "5c4080807920e5465dde7a4948f824776b0404c39c0cb1b0b003d9aeb31c4da2"
  },
  "kernelspec": {
   "display_name": "Python 3.8.8 64-bit ('base': conda)",
   "name": "python3"
  },
  "language_info": {
   "codemirror_mode": {
    "name": "ipython",
    "version": 3
   },
   "file_extension": ".py",
   "mimetype": "text/x-python",
   "name": "python",
   "nbconvert_exporter": "python",
   "pygments_lexer": "ipython3",
   "version": "3.8.8"
  }
 },
 "nbformat": 4,
 "nbformat_minor": 5
}
